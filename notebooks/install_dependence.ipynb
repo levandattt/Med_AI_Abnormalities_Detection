{
 "cells": [
  {
   "cell_type": "code",
   "id": "initial_id",
   "metadata": {
    "collapsed": true,
    "ExecuteTime": {
     "end_time": "2025-01-13T03:19:04.846246Z",
     "start_time": "2025-01-13T03:19:01.482331Z"
    }
   },
   "source": [
    "!pip install detectron2 -f \\\n",
    "https://dl.fbaipublicfiles.com/detectron2/wheels/cu102/torch1.7/index.html\n"
   ],
   "outputs": [
    {
     "name": "stdout",
     "output_type": "stream",
     "text": [
      "Looking in links: https://dl.fbaipublicfiles.com/detectron2/wheels/cu102/torch1.7/index.html\r\n",
      "Requirement already satisfied: detectron2 in ./.venv/lib/python3.7/site-packages (0.5+cu102)\r\n",
      "Requirement already satisfied: tqdm>4.29.0 in ./.venv/lib/python3.7/site-packages (from detectron2) (4.67.1)\r\n",
      "Requirement already satisfied: matplotlib in ./.venv/lib/python3.7/site-packages (from detectron2) (3.5.3)\r\n",
      "Requirement already satisfied: iopath<0.1.9,>=0.1.7 in ./.venv/lib/python3.7/site-packages (from detectron2) (0.1.8)\r\n",
      "Requirement already satisfied: Pillow>=7.1 in ./.venv/lib/python3.7/site-packages (from detectron2) (9.5.0)\r\n",
      "Requirement already satisfied: tabulate in ./.venv/lib/python3.7/site-packages (from detectron2) (0.9.0)\r\n",
      "Requirement already satisfied: cloudpickle in ./.venv/lib/python3.7/site-packages (from detectron2) (2.2.1)\r\n",
      "Requirement already satisfied: pydot in ./.venv/lib/python3.7/site-packages (from detectron2) (2.0.0)\r\n",
      "Requirement already satisfied: black==21.4b2 in ./.venv/lib/python3.7/site-packages (from detectron2) (21.4b2)\r\n",
      "Requirement already satisfied: pycocotools>=2.0.2 in ./.venv/lib/python3.7/site-packages (from detectron2) (2.0.7)\r\n",
      "Requirement already satisfied: hydra-core>=1.1 in ./.venv/lib/python3.7/site-packages (from detectron2) (1.3.2)\r\n",
      "Requirement already satisfied: omegaconf>=2.1 in ./.venv/lib/python3.7/site-packages (from detectron2) (2.3.0)\r\n",
      "Requirement already satisfied: tensorboard in ./.venv/lib/python3.7/site-packages (from detectron2) (2.11.2)\r\n",
      "Requirement already satisfied: future in ./.venv/lib/python3.7/site-packages (from detectron2) (1.0.0)\r\n",
      "Requirement already satisfied: yacs>=0.1.6 in ./.venv/lib/python3.7/site-packages (from detectron2) (0.1.8)\r\n",
      "Requirement already satisfied: termcolor>=1.1 in ./.venv/lib/python3.7/site-packages (from detectron2) (2.3.0)\r\n",
      "Requirement already satisfied: fvcore<0.1.6,>=0.1.5 in ./.venv/lib/python3.7/site-packages (from detectron2) (0.1.5.post20221221)\r\n",
      "Requirement already satisfied: click>=7.1.2 in ./.venv/lib/python3.7/site-packages (from black==21.4b2->detectron2) (8.1.8)\r\n",
      "Requirement already satisfied: mypy-extensions>=0.4.3 in ./.venv/lib/python3.7/site-packages (from black==21.4b2->detectron2) (1.0.0)\r\n",
      "Requirement already satisfied: toml>=0.10.1 in ./.venv/lib/python3.7/site-packages (from black==21.4b2->detectron2) (0.10.2)\r\n",
      "Requirement already satisfied: appdirs in ./.venv/lib/python3.7/site-packages (from black==21.4b2->detectron2) (1.4.4)\r\n",
      "Requirement already satisfied: regex>=2020.1.8 in ./.venv/lib/python3.7/site-packages (from black==21.4b2->detectron2) (2024.4.16)\r\n",
      "Requirement already satisfied: typed-ast>=1.4.2 in ./.venv/lib/python3.7/site-packages (from black==21.4b2->detectron2) (1.5.5)\r\n",
      "Requirement already satisfied: typing-extensions>=3.7.4 in ./.venv/lib/python3.7/site-packages (from black==21.4b2->detectron2) (4.7.1)\r\n",
      "Requirement already satisfied: pathspec<1,>=0.8.1 in ./.venv/lib/python3.7/site-packages (from black==21.4b2->detectron2) (0.11.2)\r\n",
      "Requirement already satisfied: numpy in ./.venv/lib/python3.7/site-packages (from fvcore<0.1.6,>=0.1.5->detectron2) (1.21.6)\r\n",
      "Requirement already satisfied: pyyaml>=5.1 in ./.venv/lib/python3.7/site-packages (from fvcore<0.1.6,>=0.1.5->detectron2) (6.0.1)\r\n",
      "Requirement already satisfied: antlr4-python3-runtime==4.9.* in ./.venv/lib/python3.7/site-packages (from hydra-core>=1.1->detectron2) (4.9.3)\r\n",
      "Requirement already satisfied: packaging in ./.venv/lib/python3.7/site-packages (from hydra-core>=1.1->detectron2) (24.0)\r\n",
      "Requirement already satisfied: importlib-resources in ./.venv/lib/python3.7/site-packages (from hydra-core>=1.1->detectron2) (5.12.0)\r\n",
      "Requirement already satisfied: portalocker in ./.venv/lib/python3.7/site-packages (from iopath<0.1.9,>=0.1.7->detectron2) (2.7.0)\r\n",
      "Requirement already satisfied: python-dateutil>=2.7 in ./.venv/lib/python3.7/site-packages (from matplotlib->detectron2) (2.9.0.post0)\r\n",
      "Requirement already satisfied: fonttools>=4.22.0 in ./.venv/lib/python3.7/site-packages (from matplotlib->detectron2) (4.38.0)\r\n",
      "Requirement already satisfied: kiwisolver>=1.0.1 in ./.venv/lib/python3.7/site-packages (from matplotlib->detectron2) (1.4.5)\r\n",
      "Requirement already satisfied: pyparsing>=2.2.1 in ./.venv/lib/python3.7/site-packages (from matplotlib->detectron2) (3.1.4)\r\n",
      "Requirement already satisfied: cycler>=0.10 in ./.venv/lib/python3.7/site-packages (from matplotlib->detectron2) (0.11.0)\r\n",
      "Requirement already satisfied: setuptools>=41.0.0 in ./.venv/lib/python3.7/site-packages (from tensorboard->detectron2) (47.1.0)\r\n",
      "Requirement already satisfied: wheel>=0.26 in ./.venv/lib/python3.7/site-packages (from tensorboard->detectron2) (0.42.0)\r\n",
      "Requirement already satisfied: google-auth<3,>=1.6.3 in ./.venv/lib/python3.7/site-packages (from tensorboard->detectron2) (2.37.0)\r\n",
      "Requirement already satisfied: google-auth-oauthlib<0.5,>=0.4.1 in ./.venv/lib/python3.7/site-packages (from tensorboard->detectron2) (0.4.6)\r\n",
      "Requirement already satisfied: protobuf<4,>=3.9.2 in ./.venv/lib/python3.7/site-packages (from tensorboard->detectron2) (3.20.3)\r\n",
      "Requirement already satisfied: tensorboard-plugin-wit>=1.6.0 in ./.venv/lib/python3.7/site-packages (from tensorboard->detectron2) (1.8.1)\r\n",
      "Requirement already satisfied: absl-py>=0.4 in ./.venv/lib/python3.7/site-packages (from tensorboard->detectron2) (2.1.0)\r\n",
      "Requirement already satisfied: tensorboard-data-server<0.7.0,>=0.6.0 in ./.venv/lib/python3.7/site-packages (from tensorboard->detectron2) (0.6.1)\r\n",
      "Requirement already satisfied: markdown>=2.6.8 in ./.venv/lib/python3.7/site-packages (from tensorboard->detectron2) (3.4.4)\r\n",
      "Requirement already satisfied: grpcio>=1.24.3 in ./.venv/lib/python3.7/site-packages (from tensorboard->detectron2) (1.62.3)\r\n",
      "Requirement already satisfied: requests<3,>=2.21.0 in ./.venv/lib/python3.7/site-packages (from tensorboard->detectron2) (2.31.0)\r\n",
      "Requirement already satisfied: werkzeug>=1.0.1 in ./.venv/lib/python3.7/site-packages (from tensorboard->detectron2) (2.2.3)\r\n",
      "Requirement already satisfied: importlib-metadata in ./.venv/lib/python3.7/site-packages (from click>=7.1.2->black==21.4b2->detectron2) (6.7.0)\r\n",
      "Requirement already satisfied: cachetools<6.0,>=2.0.0 in ./.venv/lib/python3.7/site-packages (from google-auth<3,>=1.6.3->tensorboard->detectron2) (5.5.0)\r\n",
      "Requirement already satisfied: rsa<5,>=3.1.4 in ./.venv/lib/python3.7/site-packages (from google-auth<3,>=1.6.3->tensorboard->detectron2) (4.9)\r\n",
      "Requirement already satisfied: pyasn1-modules>=0.2.1 in ./.venv/lib/python3.7/site-packages (from google-auth<3,>=1.6.3->tensorboard->detectron2) (0.3.0)\r\n",
      "Requirement already satisfied: requests-oauthlib>=0.7.0 in ./.venv/lib/python3.7/site-packages (from google-auth-oauthlib<0.5,>=0.4.1->tensorboard->detectron2) (2.0.0)\r\n",
      "Requirement already satisfied: six>=1.5 in ./.venv/lib/python3.7/site-packages (from python-dateutil>=2.7->matplotlib->detectron2) (1.17.0)\r\n",
      "Requirement already satisfied: idna<4,>=2.5 in ./.venv/lib/python3.7/site-packages (from requests<3,>=2.21.0->tensorboard->detectron2) (3.10)\r\n",
      "Requirement already satisfied: urllib3<3,>=1.21.1 in ./.venv/lib/python3.7/site-packages (from requests<3,>=2.21.0->tensorboard->detectron2) (2.0.7)\r\n",
      "Requirement already satisfied: charset-normalizer<4,>=2 in ./.venv/lib/python3.7/site-packages (from requests<3,>=2.21.0->tensorboard->detectron2) (3.4.1)\r\n",
      "Requirement already satisfied: certifi>=2017.4.17 in ./.venv/lib/python3.7/site-packages (from requests<3,>=2.21.0->tensorboard->detectron2) (2024.12.14)\r\n",
      "Requirement already satisfied: MarkupSafe>=2.1.1 in ./.venv/lib/python3.7/site-packages (from werkzeug>=1.0.1->tensorboard->detectron2) (2.1.5)\r\n",
      "Requirement already satisfied: zipp>=3.1.0 in ./.venv/lib/python3.7/site-packages (from importlib-resources->hydra-core>=1.1->detectron2) (3.15.0)\r\n",
      "Requirement already satisfied: pyasn1<0.6.0,>=0.4.6 in ./.venv/lib/python3.7/site-packages (from pyasn1-modules>=0.2.1->google-auth<3,>=1.6.3->tensorboard->detectron2) (0.5.1)\r\n",
      "Requirement already satisfied: oauthlib>=3.0.0 in ./.venv/lib/python3.7/site-packages (from requests-oauthlib>=0.7.0->google-auth-oauthlib<0.5,>=0.4.1->tensorboard->detectron2) (3.2.2)\r\n",
      "\r\n",
      "\u001B[1m[\u001B[0m\u001B[34;49mnotice\u001B[0m\u001B[1;39;49m]\u001B[0m\u001B[39;49m A new release of pip is available: \u001B[0m\u001B[31;49m23.0.1\u001B[0m\u001B[39;49m -> \u001B[0m\u001B[32;49m24.0\u001B[0m\r\n",
      "\u001B[1m[\u001B[0m\u001B[34;49mnotice\u001B[0m\u001B[1;39;49m]\u001B[0m\u001B[39;49m To update, run: \u001B[0m\u001B[32;49mpip install --upgrade pip\u001B[0m\r\n"
     ]
    }
   ],
   "execution_count": 2
  },
  {
   "metadata": {
    "ExecuteTime": {
     "end_time": "2025-01-13T03:06:33.452952Z",
     "start_time": "2025-01-13T03:06:31.217334Z"
    }
   },
   "cell_type": "code",
   "source": "!pip install tor\n",
   "id": "b3b6fac9288443f9",
   "outputs": [
    {
     "name": "stdout",
     "output_type": "stream",
     "text": [
      "Name: torch\r\n",
      "Version: 2.5.1\r\n",
      "Summary: Tensors and Dynamic neural networks in Python with strong GPU acceleration\r\n",
      "Home-page: https://pytorch.org/\r\n",
      "Author: PyTorch Team\r\n",
      "Author-email: packages@pytorch.org\r\n",
      "License: BSD-3-Clause\r\n",
      "Location: /home/xenwithu/Documents/VNPTIT/VinChestXR/.venv/lib/python3.10/site-packages\r\n",
      "Requires: filelock, fsspec, jinja2, networkx, nvidia-cublas-cu12, nvidia-cuda-cupti-cu12, nvidia-cuda-nvrtc-cu12, nvidia-cuda-runtime-cu12, nvidia-cudnn-cu12, nvidia-cufft-cu12, nvidia-curand-cu12, nvidia-cusolver-cu12, nvidia-cusparse-cu12, nvidia-nccl-cu12, nvidia-nvjitlink-cu12, nvidia-nvtx-cu12, sympy, triton, typing-extensions\r\n",
      "Required-by: torchvision\r\n"
     ]
    }
   ],
   "execution_count": 3
  }
 ],
 "metadata": {
  "kernelspec": {
   "display_name": "Python 3",
   "language": "python",
   "name": "python3"
  },
  "language_info": {
   "codemirror_mode": {
    "name": "ipython",
    "version": 2
   },
   "file_extension": ".py",
   "mimetype": "text/x-python",
   "name": "python",
   "nbconvert_exporter": "python",
   "pygments_lexer": "ipython2",
   "version": "2.7.6"
  }
 },
 "nbformat": 4,
 "nbformat_minor": 5
}
